{
 "cells": [
  {
   "cell_type": "code",
   "execution_count": 1,
   "metadata": {},
   "outputs": [],
   "source": [
    "import numpy as np\n",
    "import pandas as pd\n"
   ]
  },
  {
   "cell_type": "code",
   "execution_count": 2,
   "metadata": {},
   "outputs": [],
   "source": [
    "conn=pd.read_csv('/home/maria/Documents/Connectomics/exported-traced-adjacencies/traced-total-connections.csv')"
   ]
  },
  {
   "cell_type": "code",
   "execution_count": 3,
   "metadata": {},
   "outputs": [
    {
     "name": "stdout",
     "output_type": "stream",
     "text": [
      "         bodyId_pre  bodyId_post  weight\n",
      "0        5813054846   5813020143       1\n",
      "1        5813054846   2215550458       1\n",
      "2        5813054846   1448575109       1\n",
      "3        5813054846   1223388206       1\n",
      "4        5813054846   1913403687       1\n",
      "...             ...          ...     ...\n",
      "3413155   453794660    481070027       1\n",
      "3413156   453794660    423792440       2\n",
      "3413157   453794660    455172836       1\n",
      "3413158   453794660    388975834       3\n",
      "3413159   453794660    767904550       1\n",
      "\n",
      "[3413160 rows x 3 columns]\n"
     ]
    }
   ],
   "source": [
    "print(conn)"
   ]
  },
  {
   "cell_type": "code",
   "execution_count": 4,
   "metadata": {
    "scrolled": true
   },
   "outputs": [
    {
     "name": "stdout",
     "output_type": "stream",
     "text": [
      "(3413160, 3)\n",
      "(21616,)\n"
     ]
    }
   ],
   "source": [
    "conn=np.array(conn)\n",
    "print(conn.shape)\n",
    "print(np.unique(conn[:,0]).shape)"
   ]
  },
  {
   "cell_type": "code",
   "execution_count": 5,
   "metadata": {},
   "outputs": [
    {
     "name": "stdout",
     "output_type": "stream",
     "text": [
      "           bodyId               instance          type\n",
      "0      5813054846    PVM03y_pct(PVM03)_R    PVM03y_pct\n",
      "1      1479492693    AVL13t_pct(AVL13)_R    AVL13t_pct\n",
      "2      5812982999                    KCg           KCg\n",
      "3      1720300275  AVL04v_d_pct(AVL04)_R  AVL04v_d_pct\n",
      "4      5813060766  PDL14m_a_pct(PDL14)_R  PDL14m_a_pct\n",
      "...           ...                    ...           ...\n",
      "21658   583132200              (ADM01)_L           NaN\n",
      "21659  5813098080   ADL01os_pct(ADL01)_R   ADL01os_pct\n",
      "21660  1948478919    AVL14t_pct(AVL14)_R    AVL14t_pct\n",
      "21661   604061479    AVL12j_pct(AVL12)_R    AVL12j_pct\n",
      "21662   453794660  ADM04n_d_pct(ADM04)_R  ADM04n_d_pct\n",
      "\n",
      "[21663 rows x 3 columns]\n"
     ]
    },
    {
     "data": {
      "text/plain": [
       "array(['PVM03y_pct(PVM03)_R', 'AVL13t_pct(AVL13)_R', 'KCg', ...,\n",
       "       'AVL14t_pct(AVL14)_R', 'AVL12j_pct(AVL12)_R',\n",
       "       'ADM04n_d_pct(ADM04)_R'], dtype=object)"
      ]
     },
     "execution_count": 5,
     "metadata": {},
     "output_type": "execute_result"
    }
   ],
   "source": [
    "dat=pd.read_csv('/home/maria/Documents/Connectomics/exported-traced-adjacencies/traced-neurons.csv')\n",
    "print(dat)\n",
    "dat['instance'].values"
   ]
  },
  {
   "cell_type": "code",
   "execution_count": 6,
   "metadata": {},
   "outputs": [],
   "source": [
    "def conn_mat(conn):\n",
    "    map_neurons_to_inds={}\n",
    "    uniq=np.array(list(set(np.union1d(conn[:,0],conn[:,1]))))\n",
    "    for j in range(0,uniq.shape[0]):\n",
    "        map_neurons_to_inds[uniq[j]]=j\n",
    "    #print(map_neurons_to_inds)\n",
    "    conn_m=np.zeros((uniq.shape[0],uniq.shape[0]))\n",
    "    for row in range(0,conn.shape[0]):\n",
    "        pre=map_neurons_to_inds[conn[row,0]]\n",
    "        post=map_neurons_to_inds[conn[row,1]]\n",
    "        weight=conn[row,2]\n",
    "        conn_m[pre,post]=weight\n",
    "    return conn_m"
   ]
  },
  {
   "cell_type": "code",
   "execution_count": 7,
   "metadata": {},
   "outputs": [],
   "source": [
    "conn_m=conn_mat(conn)"
   ]
  },
  {
   "cell_type": "code",
   "execution_count": 8,
   "metadata": {
    "scrolled": true
   },
   "outputs": [
    {
     "data": {
      "text/plain": [
       "<matplotlib.image.AxesImage at 0x7fa3a2bbf510>"
      ]
     },
     "execution_count": 8,
     "metadata": {},
     "output_type": "execute_result"
    },
    {
     "data": {
      "image/png": "[encoded data removed]",
      "text/plain": [
       "<Figure size 432x288 with 1 Axes>"
      ]
     },
     "metadata": {
      "needs_background": "light"
     },
     "output_type": "display_data"
    }
   ],
   "source": [
    "import matplotlib.pyplot as plt\n",
    "plt.imshow(conn_m)"
   ]
  },
  {
   "cell_type": "code",
   "execution_count": 9,
   "metadata": {},
   "outputs": [],
   "source": [
    "np.save('conn_drosophila.npy',conn_m)"
   ]
  }
 ],
 "metadata": {
  "kernelspec": {
   "display_name": "Python 3",
   "language": "python",
   "name": "python3"
  },
  "language_info": {
   "codemirror_mode": {
    "name": "ipython",
    "version": 3
   },
   "file_extension": ".py",
   "mimetype": "text/x-python",
   "name": "python",
   "nbconvert_exporter": "python",
   "pygments_lexer": "ipython3",
   "version": "3.7.4"
  }
 },
 "nbformat": 4,
 "nbformat_minor": 4
}
