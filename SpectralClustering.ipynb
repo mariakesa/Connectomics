{
 "cells": [
  {
   "cell_type": "code",
   "execution_count": 1,
   "metadata": {},
   "outputs": [],
   "source": [
    "import networkx as nx\n",
    "import numpy as np\n",
    "import seaborn as sns\n",
    "import matplotlib.pyplot as plt\n",
    "import seaborn as sns"
   ]
  },
  {
   "cell_type": "code",
   "execution_count": 2,
   "metadata": {},
   "outputs": [],
   "source": [
    "fname='/home/maria/Downloads/c.elegans.herm_pharynx_1.graphml'\n",
    "graph=nx.read_graphml(fname)"
   ]
  },
  {
   "cell_type": "code",
   "execution_count": 3,
   "metadata": {},
   "outputs": [],
   "source": [
    "def parse_graph(graph):\n",
    "    adj_lst={}\n",
    "    for line in nx.generate_adjlist(graph):\n",
    "        strp_n=line.replace(\"n\", \"\")\n",
    "        lst=strp_n.split(' ')\n",
    "        int_lst=[]\n",
    "        for ind in lst:\n",
    "            int_lst.append(int(ind))\n",
    "        adj_lst[int_lst[0]]=int_lst[1:]\n",
    "    return adj_lst"
   ]
  },
  {
   "cell_type": "code",
   "execution_count": 4,
   "metadata": {},
   "outputs": [],
   "source": [
    "adj_lst=parse_graph(graph)"
   ]
  },
  {
   "cell_type": "code",
   "execution_count": 5,
   "metadata": {},
   "outputs": [],
   "source": [
    "def adj_lst_to_mat_undirected(adj_lst):\n",
    "    n_nodes=len(adj_lst.keys())\n",
    "    con_mat=np.zeros((n_nodes,n_nodes))\n",
    "    for node in adj_lst.keys():\n",
    "        for adj in adj_lst[node]:\n",
    "            con_mat[node,adj]=1\n",
    "            con_mat[adj,node]=1\n",
    "    return con_mat"
   ]
  },
  {
   "cell_type": "code",
   "execution_count": 6,
   "metadata": {},
   "outputs": [],
   "source": [
    "con_mat=adj_lst_to_mat_undirected(adj_lst)"
   ]
  },
  {
   "cell_type": "code",
   "execution_count": 9,
   "metadata": {},
   "outputs": [
    {
     "name": "stdout",
     "output_type": "stream",
     "text": [
      "1.0 1.0\n"
     ]
    }
   ],
   "source": [
    "print(con_mat[0,10],con_mat[10,0])"
   ]
  },
  {
   "cell_type": "code",
   "execution_count": 10,
   "metadata": {},
   "outputs": [],
   "source": [
    "laplacian=np.zeros(con_mat.shape)\n",
    "for j in range(0,laplacian.shape[0]):\n",
    "    laplacian[j,j]=con_mat[j,:].sum()\n",
    "laplacian=laplacian-con_mat"
   ]
  },
  {
   "cell_type": "code",
   "execution_count": 11,
   "metadata": {},
   "outputs": [
    {
     "data": {
      "text/plain": [
       "<matplotlib.axes._subplots.AxesSubplot at 0x7f23cb457090>"
      ]
     },
     "execution_count": 11,
     "metadata": {},
     "output_type": "execute_result"
    },
    {
     "data": {
      "image/png": "[encoded data removed]",
      "text/plain": [
       "<Figure size 432x288 with 2 Axes>"
      ]
     },
     "metadata": {
      "needs_background": "light"
     },
     "output_type": "display_data"
    }
   ],
   "source": [
    "sns.heatmap(laplacian)"
   ]
  },
  {
   "cell_type": "code",
   "execution_count": 15,
   "metadata": {},
   "outputs": [],
   "source": [
    "eig_vals,eig_vecs=np.linalg.eig(laplacian)"
   ]
  },
  {
   "cell_type": "code",
   "execution_count": 17,
   "metadata": {},
   "outputs": [
    {
     "data": {
      "text/plain": [
       "(279, 279)"
      ]
     },
     "execution_count": 17,
     "metadata": {},
     "output_type": "execute_result"
    }
   ],
   "source": [
    "eig_vecs.shape"
   ]
  },
  {
   "cell_type": "code",
   "execution_count": 22,
   "metadata": {},
   "outputs": [
    {
     "name": "stdout",
     "output_type": "stream",
     "text": [
      "[ 9.41540632e+01  9.31103595e+01  7.62441942e+01  7.51101243e+01\n",
      "  5.77637640e+01  5.73042617e+01  5.59461220e+01  5.50889594e+01\n",
      "  5.34805138e+01  5.04107664e+01  4.51248482e+01  4.09823998e+01\n",
      "  3.94761209e+01  3.76503763e+01  3.61777833e+01  3.60463906e+01\n",
      "  3.52539351e+01  3.47106402e+01  3.44999144e+01  3.40067757e+01\n",
      " -1.00245897e-14  3.31080094e+01  3.28743619e+01  3.22555324e+01\n",
      "  3.14380481e+01  3.08836080e+01  3.07215067e+01  2.99676857e+01\n",
      "  2.97651668e+01  2.93217528e+01  2.86842555e+01  2.82679451e+01\n",
      "  2.81069605e+01  2.73109273e+01  2.72322762e+01  2.66202893e+01\n",
      "  2.68154313e+01  1.62727553e+00  1.75629865e+00  1.79522344e+00\n",
      "  1.94628266e+00  2.19985822e+00  2.62984065e+01  2.61392762e+01\n",
      "  2.59705476e+01  2.58879453e+01  2.57571410e+01  2.54904667e+01\n",
      "  2.53843678e+01  2.49998898e+01  2.48078980e+01  2.46215023e+01\n",
      "  2.43327081e+01  2.42237305e+01  2.41096529e+01  2.36435310e+01\n",
      "  2.34356629e+01  2.33041994e+01  2.29859020e+01  2.30834810e+01\n",
      "  2.26909435e+01  2.25621775e+01  2.47595256e+00  2.71803386e+00\n",
      "  2.85587672e+00  2.99492159e+00  3.22867185e+00  2.24028141e+01\n",
      "  2.23607764e+01  2.21467050e+01  2.21002514e+01  2.19978832e+01\n",
      "  2.16310166e+01  2.07866379e+01  2.09841465e+01  2.14742857e+01\n",
      "  2.13896453e+01  2.13335944e+01  2.11578156e+01  2.11397419e+01\n",
      "  2.00000000e+00  3.50585475e+00  3.71585781e+00  3.83734521e+00\n",
      "  3.87140631e+00  3.97455542e+00  2.05928479e+01  2.04875221e+01\n",
      "  2.00635025e+01  2.00179643e+01  1.98907337e+01  1.94880288e+01\n",
      "  1.94125818e+01  1.94073615e+01  1.92632590e+01  1.87165535e+01\n",
      "  1.90245490e+01  1.89294860e+01  1.88660752e+01  4.17278974e+00\n",
      "  4.32403106e+00  1.82784470e+01  1.84652781e+01  4.43698035e+00\n",
      "  4.48955595e+00  1.78029190e+01  1.80995058e+01  1.80342088e+01\n",
      "  1.79418339e+01  4.80389876e+00  4.96637034e+00  1.76987566e+01\n",
      "  1.75016740e+01  1.74290707e+01  1.73305355e+01  1.72082456e+01\n",
      "  5.13163626e+00  5.23746181e+00  5.30714485e+00  5.36260191e+00\n",
      "  1.70939032e+01  1.69528295e+01  1.68829617e+01  1.67019560e+01\n",
      "  1.67536890e+01  5.67998328e+00  5.45696489e+00  5.48779297e+00\n",
      "  5.56295398e+00  5.55769711e+00  1.65815150e+01  1.65634373e+01\n",
      "  1.64287128e+01  1.63244493e+01  5.82586100e+00  5.85862962e+00\n",
      "  5.92200672e+00  5.95817331e+00  1.62357529e+01  1.62459488e+01\n",
      "  1.61463551e+01  1.60300669e+01  1.59529816e+01  5.99993790e+00\n",
      "  6.14568103e+00  6.17046322e+00  6.32075313e+00  6.35178637e+00\n",
      "  1.58362169e+01  1.56306670e+01  1.57204771e+01  1.54661806e+01\n",
      "  1.53716572e+01  6.48469292e+00  6.52484372e+00  6.60982897e+00\n",
      "  6.65763350e+00  6.79677363e+00  1.53095282e+01  1.51920714e+01\n",
      "  1.50819295e+01  1.50209383e+01  1.49661030e+01  1.49007278e+01\n",
      "  1.48779841e+01  1.47600771e+01  1.47963048e+01  1.46231536e+01\n",
      "  1.45000752e+01  1.43801893e+01  1.43201457e+01  1.42630172e+01\n",
      "  6.87149089e+00  1.42149964e+01  1.41316380e+01  7.12845872e+00\n",
      "  7.03728142e+00  6.97346291e+00  1.41495971e+01  1.39751013e+01\n",
      "  1.40110797e+01  6.98811392e+00  7.43939859e+00  7.51788284e+00\n",
      "  7.56305546e+00  7.62073162e+00  7.65259914e+00  1.38372457e+01\n",
      "  1.37774571e+01  1.34538886e+01  1.35976527e+01  1.36948332e+01\n",
      "  1.36620988e+01  7.72702552e+00  7.76976244e+00  7.79234531e+00\n",
      "  7.89896453e+00  7.91083259e+00  7.99372560e+00  8.11727320e+00\n",
      "  8.06123437e+00  1.34095095e+01  1.31803122e+01  1.31876506e+01\n",
      "  1.31251923e+01  1.30382319e+01  1.26751255e+01  1.27072986e+01\n",
      "  1.28103869e+01  1.28632037e+01  8.21007523e+00  1.25125285e+01\n",
      "  1.24647045e+01  1.23774950e+01  1.22920833e+01  1.26368024e+01\n",
      "  8.26231303e+00  8.36023542e+00  8.53891308e+00  8.47469069e+00\n",
      "  8.40828503e+00  8.42573826e+00  1.18732269e+01  1.19094985e+01\n",
      "  1.22666841e+01  1.21123654e+01  1.19948843e+01  1.21914553e+01\n",
      "  1.21736115e+01  1.17193458e+01  1.14151901e+01  1.13118145e+01\n",
      "  8.81521056e+00  8.74829730e+00  8.64390612e+00  8.98411584e+00\n",
      "  9.01853877e+00  8.71169987e+00  9.10238068e+00  1.16346214e+01\n",
      "  9.21447425e+00  1.15273826e+01  9.25215712e+00  9.37302554e+00\n",
      "  1.12409860e+01  9.91502297e+00  9.98043283e+00  1.11362371e+01\n",
      "  1.01117128e+01  1.09455372e+01  1.09084192e+01  1.11855735e+01\n",
      "  1.04183630e+01  1.04958747e+01  1.06986203e+01  1.05769048e+01\n",
      "  8.69479509e+00  7.00000000e+00  1.15991358e+01  1.08228274e+01\n",
      "  9.40286273e+00  9.45444725e+00  9.78314876e+00  9.65796947e+00\n",
      "  9.81355010e+00  1.02300224e+01  1.02466368e+01  1.16891556e+01\n",
      "  8.66550554e+00  1.08109138e+01  1.07319856e+01  9.56519372e+00\n",
      "  1.03502238e+01  9.62864101e+00  9.54029337e+00  9.71938986e+00\n",
      "  9.48349919e+00  1.02721661e+01  1.01779619e+01]\n"
     ]
    }
   ],
   "source": [
    "print(eig_vals)"
   ]
  },
  {
   "cell_type": "code",
   "execution_count": 33,
   "metadata": {},
   "outputs": [
    {
     "data": {
      "text/plain": [
       "array([3, 3, 1, 1, 3, 3, 3, 3, 3, 3, 3, 3, 3, 3, 3, 3, 3, 3, 3, 3, 3, 3,\n",
       "       1, 1, 1, 1, 1, 2, 0, 0, 0, 0, 0, 2, 2, 2, 2, 2, 2, 3, 3, 3, 3, 3,\n",
       "       3, 3, 3, 3, 3, 3, 3, 3, 3, 2, 2, 2, 2, 2, 2, 1, 1, 3, 3, 2, 3, 2,\n",
       "       2, 2, 1, 1, 2, 2, 3, 3, 3, 3, 3, 3, 3, 3, 2, 2, 1, 1, 1, 1, 0, 0,\n",
       "       0, 0, 0, 0, 2, 2, 2, 0, 0, 0, 0, 2, 2, 2, 0, 0, 0, 2, 2, 2, 2, 2,\n",
       "       2, 2, 3, 3, 1, 1, 1, 1, 1, 1, 1, 1, 1, 1, 1, 1, 2, 2, 1, 1, 1, 1,\n",
       "       1, 1, 2, 2, 2, 2, 2, 2, 2, 2, 2, 2, 2, 2, 3, 1, 2, 2, 2, 2, 2, 2,\n",
       "       2, 2, 2, 0, 3, 3, 2, 2, 2, 2, 1, 1, 1, 1, 1, 1, 0, 3, 3, 1, 1, 1,\n",
       "       3, 1, 1, 1, 3, 1, 1, 1, 1, 1, 1, 1, 1, 1, 1, 1, 1, 1, 1, 1, 1, 1,\n",
       "       1, 1, 3, 1, 1, 1, 0, 0, 0, 1, 1, 1, 1, 1, 1, 1, 1, 1, 1, 1, 1, 3,\n",
       "       3, 1, 1, 1, 1, 1, 1, 1, 1, 1, 1, 1, 1, 1, 1, 1, 1, 0, 0, 0, 0, 0,\n",
       "       0, 0, 2, 2, 2, 2, 2, 0, 0, 0, 0, 0, 2, 2, 2, 2, 2, 2, 0, 0, 0, 0,\n",
       "       0, 0, 0, 0, 0, 0, 0, 2, 2, 2, 2, 2, 2, 2, 2])"
      ]
     },
     "execution_count": 33,
     "metadata": {},
     "output_type": "execute_result"
    }
   ],
   "source": [
    "from sklearn.cluster import SpectralClustering\n",
    "import numpy as np\n",
    "clustering = SpectralClustering(n_clusters=4,assign_labels=\"discretize\",random_state=0,affinity='precomputed').fit(con_mat)\n",
    "clustering.labels_"
   ]
  },
  {
   "cell_type": "code",
   "execution_count": 45,
   "metadata": {},
   "outputs": [
    {
     "name": "stdout",
     "output_type": "stream",
     "text": [
      "(279, 279)\n"
     ]
    }
   ],
   "source": [
    "resorted_data=np.zeros((1,279))\n",
    "for j in range(0,4):\n",
    "    resorted_data=np.vstack((resorted_data,con_mat[clustering.labels_==j]))\n",
    "resorted_data=resorted_data[1:,:]\n",
    "print(resorted_data.shape)"
   ]
  },
  {
   "cell_type": "code",
   "execution_count": 46,
   "metadata": {},
   "outputs": [
    {
     "data": {
      "text/plain": [
       "<matplotlib.axes._subplots.AxesSubplot at 0x7f23b2f46210>"
      ]
     },
     "execution_count": 46,
     "metadata": {},
     "output_type": "execute_result"
    },
    {
     "data": {
      "image/png": "[encoded data removed]",
      "text/plain": [
       "<Figure size 432x288 with 2 Axes>"
      ]
     },
     "metadata": {
      "needs_background": "light"
     },
     "output_type": "display_data"
    }
   ],
   "source": [
    "sns.heatmap(np.array(resorted_data))"
   ]
  }
 ],
 "metadata": {
  "kernelspec": {
   "display_name": "Python 3",
   "language": "python",
   "name": "python3"
  },
  "language_info": {
   "codemirror_mode": {
    "name": "ipython",
    "version": 3
   },
   "file_extension": ".py",
   "mimetype": "text/x-python",
   "name": "python",
   "nbconvert_exporter": "python",
   "pygments_lexer": "ipython3",
   "version": "3.7.4"
  }
 },
 "nbformat": 4,
 "nbformat_minor": 4
}
