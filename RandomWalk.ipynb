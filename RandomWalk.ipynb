{
 "cells": [
  {
   "cell_type": "code",
   "execution_count": 11,
   "metadata": {},
   "outputs": [],
   "source": [
    "import networkx as nx\n",
    "import numpy as np\n",
    "import seaborn as sns\n",
    "import matplotlib.pyplot as plt\n",
    "import seaborn as sns\n",
    "import random"
   ]
  },
  {
   "cell_type": "code",
   "execution_count": 2,
   "metadata": {},
   "outputs": [],
   "source": [
    "#Data downloaded from https://neurodata.io/project/connectomes/"
   ]
  },
  {
   "cell_type": "code",
   "execution_count": 3,
   "metadata": {},
   "outputs": [],
   "source": [
    "fname='/home/maria/Downloads/c.elegans.herm_pharynx_1.graphml'\n",
    "graph=nx.read_graphml(fname)"
   ]
  },
  {
   "cell_type": "code",
   "execution_count": 4,
   "metadata": {},
   "outputs": [],
   "source": [
    "def parse_graph(graph):\n",
    "    adj_lst={}\n",
    "    for line in nx.generate_adjlist(graph):\n",
    "        strp_n=line.replace(\"n\", \"\")\n",
    "        lst=strp_n.split(' ')\n",
    "        int_lst=[]\n",
    "        for ind in lst:\n",
    "            int_lst.append(int(ind))\n",
    "        adj_lst[int_lst[0]]=int_lst[1:]\n",
    "    return adj_lst"
   ]
  },
  {
   "cell_type": "code",
   "execution_count": 5,
   "metadata": {},
   "outputs": [],
   "source": [
    "adj_lst=parse_graph(graph)"
   ]
  },
  {
   "cell_type": "code",
   "execution_count": 20,
   "metadata": {},
   "outputs": [],
   "source": [
    "def adj_lst_to_mat(adj_lst):\n",
    "    n_nodes=len(adj_lst.keys())\n",
    "    con_mat=np.zeros((n_nodes,n_nodes))\n",
    "    for node in adj_lst.keys():\n",
    "        for adj in adj_lst[node]:\n",
    "            con_mat[node,adj]=1\n",
    "    return con_mat"
   ]
  },
  {
   "cell_type": "code",
   "execution_count": 21,
   "metadata": {},
   "outputs": [],
   "source": [
    "con_mat=adj_lst_to_mat(adj_lst)"
   ]
  },
  {
   "cell_type": "markdown",
   "metadata": {},
   "source": [
    "# Run Monte Carlo simulation"
   ]
  },
  {
   "cell_type": "code",
   "execution_count": 62,
   "metadata": {},
   "outputs": [],
   "source": [
    "np.random.seed(77)\n",
    "def simulation(adj_lst,con_mat):\n",
    "    iterations=1000\n",
    "    initial_condition=random.choice(list(adj_lst.keys()))\n",
    "    prev=initial_condition\n",
    "    adj_lst_reachable=clean_graph(adj_lst,con_mat,initial_condition)\n",
    "    visited_nodes=[]\n",
    "    for it in range(iterations):\n",
    "        visited_nodes.append(prev)\n",
    "        move_to=random.choice(adj_lst_reachable[prev])\n",
    "        prev=move_to\n",
    "    return visited_nodes"
   ]
  },
  {
   "cell_type": "code",
   "execution_count": 63,
   "metadata": {
    "scrolled": true
   },
   "outputs": [],
   "source": [
    "visited_nodes=simulation(adj_lst,con_mat)"
   ]
  },
  {
   "cell_type": "code",
   "execution_count": 66,
   "metadata": {
    "scrolled": true
   },
   "outputs": [
    {
     "data": {
      "text/plain": [
       "Text(0, 0.5, 'Nr of times visited on path')"
      ]
     },
     "execution_count": 66,
     "metadata": {},
     "output_type": "execute_result"
    },
    {
     "data": {
      "image/png": "[encoded data removed]",
      "text/plain": [
       "<Figure size 432x288 with 1 Axes>"
      ]
     },
     "metadata": {
      "needs_background": "light"
     },
     "output_type": "display_data"
    }
   ],
   "source": [
    "plt.hist(visited_nodes,bins=278)\n",
    "plt.title('Histogram of neurons visited')\n",
    "plt.xlabel('Neuron index')\n",
    "plt.ylabel('Nr of times visited on path')"
   ]
  }
 ],
 "metadata": {
  "kernelspec": {
   "display_name": "Python 3",
   "language": "python",
   "name": "python3"
  },
  "language_info": {
   "codemirror_mode": {
    "name": "ipython",
    "version": 3
   },
   "file_extension": ".py",
   "mimetype": "text/x-python",
   "name": "python",
   "nbconvert_exporter": "python",
   "pygments_lexer": "ipython3",
   "version": "3.7.4"
  }
 },
 "nbformat": 4,
 "nbformat_minor": 4
}
